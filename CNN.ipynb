{
 "cells": [
  {
   "cell_type": "code",
   "execution_count": 61,
   "metadata": {
    "ExecuteTime": {
     "end_time": "2019-09-28T07:30:55.495746Z",
     "start_time": "2019-09-28T07:30:55.482749Z"
    }
   },
   "outputs": [],
   "source": [
    "from PIL import Image\n",
    "import numpy as np\n",
    "import pandas as pd\n",
    "import tensorflow as tf\n",
    "from tensorflow.keras.models import Sequential\n",
    "from tensorflow.keras.utils import to_categorical\n",
    "from tensorflow.keras.layers import Conv2D, MaxPool2D, Flatten, Dense"
   ]
  },
  {
   "cell_type": "code",
   "execution_count": 62,
   "metadata": {
    "ExecuteTime": {
     "end_time": "2019-09-28T07:31:11.887249Z",
     "start_time": "2019-09-28T07:31:11.745628Z"
    },
    "run_control": {
     "marked": true
    }
   },
   "outputs": [],
   "source": [
    "! mkdir model submit"
   ]
  },
  {
   "cell_type": "code",
   "execution_count": 63,
   "metadata": {
    "ExecuteTime": {
     "end_time": "2019-09-28T07:32:05.608902Z",
     "start_time": "2019-09-28T07:32:03.323989Z"
    }
   },
   "outputs": [
    {
     "name": "stdout",
     "output_type": "stream",
     "text": [
      "(366, 224, 224, 3)\n"
     ]
    },
    {
     "data": {
      "text/plain": [
       "['003CE5D6A5', '005053493B', '01CBBE0E4C', '02C5C50BFB', '03D9D55867']"
      ]
     },
     "execution_count": 63,
     "metadata": {},
     "output_type": "execute_result"
    }
   ],
   "source": [
    "from os import listdir\n",
    "from os.path import isfile, isdir, join\n",
    "\n",
    "def get_imgs_data(mypath, return_file_names=False):\n",
    "    files = listdir(mypath) # 取得所有檔案與子目錄名稱\n",
    "    imgs_arr = []\n",
    "    file_names = []\n",
    "    for f in files:\n",
    "        if (not f[0]=='.') and (f[-4:]=='.png'):\n",
    "            img = Image.open(mypath+f)\n",
    "            img = img.resize((224, 224), Image.ANTIALIAS)\n",
    "            imgs_arr.append(np.array(img))\n",
    "            file_names.append(f[:-4])\n",
    "            \n",
    "    op_array =  np.clip(np.array(imgs_arr) / 127.5-1, -1, 1)\n",
    "    if return_file_names:\n",
    "        return op_array , file_names\n",
    "    return op_array \n",
    "\n",
    "X_test, ids_test = get_imgs_data(\"./testing_set/testing_set/\", return_file_names=True); print(X_test.shape)\n",
    "ids_test[:5]"
   ]
  },
  {
   "cell_type": "code",
   "execution_count": 66,
   "metadata": {
    "ExecuteTime": {
     "end_time": "2019-09-28T07:33:31.969978Z",
     "start_time": "2019-09-28T07:33:31.961997Z"
    }
   },
   "outputs": [
    {
     "data": {
      "text/plain": [
       "{'whippet': 0,\n",
       " 'Walker_hound': 1,\n",
       " 'fox_terrier': 2,\n",
       " 'basset': 3,\n",
       " 'beagle': 4,\n",
       " 'papillon': 5,\n",
       " 'Norfolk_terrier': 6}"
      ]
     },
     "execution_count": 66,
     "metadata": {},
     "output_type": "execute_result"
    }
   ],
   "source": [
    "classmap = pd.read_csv('classmap.csv', index_col=0, header=None).to_dict()[1]\n",
    "classmap"
   ]
  },
  {
   "cell_type": "code",
   "execution_count": 67,
   "metadata": {
    "ExecuteTime": {
     "end_time": "2019-09-28T07:33:38.699978Z",
     "start_time": "2019-09-28T07:33:32.956338Z"
    }
   },
   "outputs": [
    {
     "name": "stdout",
     "output_type": "stream",
     "text": [
      "class [0]:  (131, 224, 224, 3)\n",
      "class [1]:  (108, 224, 224, 3)\n",
      "class [2]:  (110, 224, 224, 3)\n",
      "class [3]:  (123, 224, 224, 3)\n",
      "class [4]:  (137, 224, 224, 3)\n",
      "class [5]:  (138, 224, 224, 3)\n",
      "class [6]:  (121, 224, 224, 3)\n",
      "X_train:  (868, 224, 224, 3)\n",
      "y_train:  (868,)\n"
     ]
    }
   ],
   "source": [
    "X_train_list = [] \n",
    "y_train_list = []\n",
    "for k in classmap.keys():\n",
    "    c_i =  classmap[k]\n",
    "    X_train_ = get_imgs_data(f\"./training_set/training_set/{k}/\"); print(f\"class [{c_i}]: \", X_train_.shape)\n",
    "    X_train_list.append(X_train_)\n",
    "    y_train_list.append(np.zeros(X_train_.shape[0])+c_i)\n",
    "X_train = np.concatenate(X_train_list, 0); print(f\"X_train: \", X_train.shape)\n",
    "y_train = np.concatenate(y_train_list, 0); print(f\"y_train: \", y_train.shape)\n",
    "del X_train_list; del y_train_list"
   ]
  },
  {
   "cell_type": "code",
   "execution_count": 68,
   "metadata": {
    "ExecuteTime": {
     "end_time": "2019-09-28T07:33:53.509322Z",
     "start_time": "2019-09-28T07:33:53.505299Z"
    }
   },
   "outputs": [
    {
     "name": "stdout",
     "output_type": "stream",
     "text": [
      "y_train_categ:  (868, 7)\n"
     ]
    }
   ],
   "source": [
    "y_train_categ = to_categorical(y_train); print(f\"y_train_categ: \", y_train_categ.shape)"
   ]
  },
  {
   "cell_type": "markdown",
   "metadata": {
    "ExecuteTime": {
     "end_time": "2019-09-27T09:02:44.991781Z",
     "start_time": "2019-09-27T09:02:44.985796Z"
    }
   },
   "source": [
    "Data Augmentation¶"
   ]
  },
  {
   "cell_type": "code",
   "execution_count": 69,
   "metadata": {
    "ExecuteTime": {
     "end_time": "2019-09-28T07:34:29.997006Z",
     "start_time": "2019-09-28T07:34:26.618545Z"
    }
   },
   "outputs": [],
   "source": [
    "from tensorflow.keras.preprocessing.image import ImageDataGenerator\n",
    "datagen = ImageDataGenerator(\n",
    "    featurewise_center=True,\n",
    "    featurewise_std_normalization=True,\n",
    "    rotation_range=20,\n",
    "    width_shift_range=0.2,\n",
    "    height_shift_range=0.2,\n",
    "    horizontal_flip=True)\n",
    "\n",
    "datagen.fit(X_train)"
   ]
  },
  {
   "cell_type": "markdown",
   "metadata": {
    "ExecuteTime": {
     "end_time": "2019-09-28T07:00:50.800034Z",
     "start_time": "2019-09-28T07:00:50.535704Z"
    },
    "run_control": {
     "marked": true
    }
   },
   "source": [
    "Build Model"
   ]
  },
  {
   "cell_type": "code",
   "execution_count": 70,
   "metadata": {
    "ExecuteTime": {
     "end_time": "2019-09-28T07:35:05.678742Z",
     "start_time": "2019-09-28T07:35:05.668740Z"
    }
   },
   "outputs": [],
   "source": [
    "from tensorflow.keras.models import Sequential, Model\n",
    "from tensorflow.keras.layers import Dense, Conv2D, BatchNormalization, MaxPool2D, GlobalAveragePooling2D\n",
    "from tensorflow.keras.optimizers import RMSprop, Adam, SGD\n",
    "from tensorflow.keras import backend as K\n",
    "from tensorflow.keras.applications import VGG16, MobileNet, InceptionV3\n",
    "from tensorflow.keras.layers import Input"
   ]
  },
  {
   "cell_type": "code",
   "execution_count": 71,
   "metadata": {
    "ExecuteTime": {
     "end_time": "2019-09-28T07:35:46.575312Z",
     "start_time": "2019-09-28T07:35:17.933614Z"
    },
    "run_control": {
     "marked": true
    }
   },
   "outputs": [
    {
     "name": "stdout",
     "output_type": "stream",
     "text": [
      "Downloading data from https://github.com/fchollet/deep-learning-models/releases/download/v0.5/inception_v3_weights_tf_dim_ordering_tf_kernels_notop.h5\n",
      "87916544/87910968 [==============================] - 16s 0us/step\n"
     ]
    }
   ],
   "source": [
    "# this could also be the output a different Keras model or layer\n",
    "input_tensor = Input(shape=(224, 224, 3))  # this assumes K.image_data_format() == 'channels_last'\n",
    "base_model = InceptionV3(input_tensor=input_tensor, weights='imagenet', include_top=False)"
   ]
  },
  {
   "cell_type": "code",
   "execution_count": 72,
   "metadata": {
    "ExecuteTime": {
     "end_time": "2019-09-28T07:35:54.225853Z",
     "start_time": "2019-09-28T07:35:54.128079Z"
    }
   },
   "outputs": [],
   "source": [
    "x = base_model.output\n",
    "x = GlobalAveragePooling2D()(x)\n",
    "x = Dense(1024, activation='relu')(x)\n",
    "predictions = Dense(7, activation='softmax')(x)\n",
    "\n",
    "model = Model(inputs=base_model.input, outputs=predictions)"
   ]
  },
  {
   "cell_type": "markdown",
   "metadata": {
    "ExecuteTime": {
     "end_time": "2019-09-28T07:19:02.733308Z",
     "start_time": "2019-09-28T07:18:52.821142Z"
    }
   },
   "source": [
    "# Train"
   ]
  },
  {
   "cell_type": "code",
   "execution_count": 73,
   "metadata": {
    "ExecuteTime": {
     "end_time": "2019-09-28T07:36:21.046244Z",
     "start_time": "2019-09-28T07:36:21.033278Z"
    }
   },
   "outputs": [],
   "source": [
    "# first: train only the top layers (which were randomly initialized)\n",
    "# i.e. freeze all convolutional InceptionV3 layers\n",
    "for layer in base_model.layers:\n",
    "    layer.trainable = False"
   ]
  },
  {
   "cell_type": "code",
   "execution_count": 74,
   "metadata": {
    "ExecuteTime": {
     "end_time": "2019-09-28T07:36:33.524137Z",
     "start_time": "2019-09-28T07:36:32.789837Z"
    }
   },
   "outputs": [],
   "source": [
    "opt = RMSprop(lr=3e-4)\n",
    "model.compile(optimizer=opt,\n",
    "              loss='categorical_crossentropy',\n",
    "              metrics=['accuracy']\n",
    "             )"
   ]
  },
  {
   "cell_type": "code",
   "execution_count": 75,
   "metadata": {
    "ExecuteTime": {
     "end_time": "2019-09-28T07:37:28.456337Z",
     "start_time": "2019-09-28T07:36:44.141824Z"
    }
   },
   "outputs": [
    {
     "name": "stdout",
     "output_type": "stream",
     "text": [
      "Epoch 1/5\n",
      "28/27 [==============================] - 10s 360ms/step - loss: 1.5777 - acc: 0.5230\n",
      "Epoch 2/5\n",
      "28/27 [==============================] - 8s 289ms/step - loss: 0.9137 - acc: 0.6751\n",
      "Epoch 3/5\n",
      "28/27 [==============================] - 8s 287ms/step - loss: 0.7775 - acc: 0.7304\n",
      "Epoch 4/5\n",
      "28/27 [==============================] - 8s 282ms/step - loss: 0.6396 - acc: 0.7650\n",
      "Epoch 5/5\n",
      "28/27 [==============================] - 8s 285ms/step - loss: 0.6265 - acc: 0.7696\n"
     ]
    },
    {
     "data": {
      "text/plain": [
       "<tensorflow.python.keras.callbacks.History at 0x20b6fd82448>"
      ]
     },
     "execution_count": 75,
     "metadata": {},
     "output_type": "execute_result"
    }
   ],
   "source": [
    "epochs = 5\n",
    "model.fit_generator(datagen.flow(X_train, y_train_categ, batch_size=32),\n",
    "                    steps_per_epoch=len(X_train) / 32, \n",
    "                    epochs=epochs)"
   ]
  },
  {
   "cell_type": "code",
   "execution_count": 76,
   "metadata": {
    "ExecuteTime": {
     "end_time": "2019-09-28T07:37:41.480464Z",
     "start_time": "2019-09-28T07:37:41.458523Z"
    }
   },
   "outputs": [],
   "source": [
    "# we chose to train the top 2 inception blocks, i.e. we will freeze\n",
    "# the first 249 layers and unfreeze the rest:\n",
    "for layer in model.layers[:249]:\n",
    "    layer.trainable = False\n",
    "for layer in model.layers[249:]:\n",
    "    layer.trainable = True"
   ]
  },
  {
   "cell_type": "code",
   "execution_count": 77,
   "metadata": {
    "ExecuteTime": {
     "end_time": "2019-09-28T07:37:53.809672Z",
     "start_time": "2019-09-28T07:37:53.657898Z"
    }
   },
   "outputs": [],
   "source": [
    "# we need to recompile the model for these modifications to take effect\n",
    "# we use SGD with a low learning rate\n",
    "model.compile(optimizer=SGD(lr=0.0001, momentum=0.9), \n",
    "              loss='categorical_crossentropy',\n",
    "              metrics=['accuracy']\n",
    "             )"
   ]
  },
  {
   "cell_type": "code",
   "execution_count": 79,
   "metadata": {
    "ExecuteTime": {
     "end_time": "2019-09-28T07:41:43.730761Z",
     "start_time": "2019-09-28T07:39:43.564162Z"
    }
   },
   "outputs": [
    {
     "name": "stdout",
     "output_type": "stream",
     "text": [
      "Epoch 1/10\n",
      "28/27 [==============================] - 9s 329ms/step - loss: 0.3423 - acc: 0.8848\n",
      "Epoch 2/10\n",
      "28/27 [==============================] - 12s 416ms/step - loss: 0.3468 - acc: 0.8998\n",
      "Epoch 3/10\n",
      "28/27 [==============================] - 11s 397ms/step - loss: 0.3678 - acc: 0.8813\n",
      "Epoch 4/10\n",
      "28/27 [==============================] - 11s 386ms/step - loss: 0.3273 - acc: 0.9009\n",
      "Epoch 5/10\n",
      "28/27 [==============================] - 12s 413ms/step - loss: 0.3303 - acc: 0.8859\n",
      "Epoch 6/10\n",
      "28/27 [==============================] - 11s 406ms/step - loss: 0.3052 - acc: 0.9159\n",
      "Epoch 7/10\n",
      "28/27 [==============================] - 12s 429ms/step - loss: 0.2976 - acc: 0.9124\n",
      "Epoch 8/10\n",
      "28/27 [==============================] - 14s 495ms/step - loss: 0.3072 - acc: 0.8952\n",
      "Epoch 9/10\n",
      "28/27 [==============================] - 13s 455ms/step - loss: 0.3428 - acc: 0.9021\n",
      "Epoch 10/10\n",
      "28/27 [==============================] - 15s 547ms/step - loss: 0.3148 - acc: 0.9055\n"
     ]
    }
   ],
   "source": [
    "# we train our model again (this time fine-tuning the top 2 inception blocks\n",
    "# alongside the top Dense layers\n",
    "epochs = 10\n",
    "his=model.fit_generator(datagen.flow(X_train, y_train_categ, batch_size=32),\n",
    "                    steps_per_epoch=len(X_train) / 32, \n",
    "                    epochs=epochs)"
   ]
  },
  {
   "cell_type": "code",
   "execution_count": 80,
   "metadata": {
    "ExecuteTime": {
     "end_time": "2019-09-28T07:41:43.811545Z",
     "start_time": "2019-09-28T07:41:43.806560Z"
    }
   },
   "outputs": [],
   "source": [
    "model_name = \"CNN_InceptionV3\"\n",
    "postfix = \"12\""
   ]
  },
  {
   "cell_type": "code",
   "execution_count": 81,
   "metadata": {
    "ExecuteTime": {
     "end_time": "2019-09-28T07:43:42.982703Z",
     "start_time": "2019-09-28T07:41:43.882355Z"
    }
   },
   "outputs": [
    {
     "name": "stdout",
     "output_type": "stream",
     "text": [
      "save scv: submit/CNN_InceptionV3_submission_12_20190928154149.csv\n",
      "save model: model/CNN_InceptionV3_model_12_20190928154149.h5\n"
     ]
    }
   ],
   "source": [
    "# save out\n",
    "from datetime import datetime\n",
    "y_pred_categ = model.predict(X_test)\n",
    "y_pred = np.argmax(y_pred_categ, 1)\n",
    "df_op = pd.DataFrame({'id':ids_test, 'class': y_pred})\n",
    "t_str = datetime.strftime(datetime.now(), \"%Y%m%d%H%M%S\")\n",
    "pth = f'submit/{model_name}_submission_{postfix}_{t_str}.csv'\n",
    "df_op.to_csv(pth, index=False) # real test score: 0.93\n",
    "print(f'save scv: {pth}') \n",
    "# save out\n",
    "pth = f'model/{model_name}_model_{postfix}_{t_str}.h5'\n",
    "model.save_weights(pth)\n",
    "print(f'save model: {pth}')"
   ]
  },
  {
   "cell_type": "code",
   "execution_count": 82,
   "metadata": {
    "ExecuteTime": {
     "end_time": "2019-09-28T07:43:43.123349Z",
     "start_time": "2019-09-28T07:43:43.087414Z"
    }
   },
   "outputs": [
    {
     "ename": "KeyError",
     "evalue": "'val_loss'",
     "output_type": "error",
     "traceback": [
      "\u001b[1;31m---------------------------------------------------------------------------\u001b[0m",
      "\u001b[1;31mKeyError\u001b[0m                                  Traceback (most recent call last)",
      "\u001b[1;32m<ipython-input-82-eca6623835e5>\u001b[0m in \u001b[0;36m<module>\u001b[1;34m\u001b[0m\n\u001b[1;32m----> 1\u001b[1;33m \u001b[0mplt\u001b[0m\u001b[1;33m.\u001b[0m\u001b[0mplot\u001b[0m\u001b[1;33m(\u001b[0m\u001b[0mhis\u001b[0m\u001b[1;33m.\u001b[0m\u001b[0mhistory\u001b[0m\u001b[1;33m[\u001b[0m\u001b[1;34m'val_loss'\u001b[0m\u001b[1;33m]\u001b[0m\u001b[1;33m)\u001b[0m\u001b[1;33m\u001b[0m\u001b[1;33m\u001b[0m\u001b[0m\n\u001b[0m\u001b[0;32m      2\u001b[0m \u001b[0mplt\u001b[0m\u001b[1;33m.\u001b[0m\u001b[0mxlabel\u001b[0m\u001b[1;33m(\u001b[0m\u001b[1;34m'epochs'\u001b[0m\u001b[1;33m)\u001b[0m\u001b[1;33m\u001b[0m\u001b[1;33m\u001b[0m\u001b[0m\n\u001b[0;32m      3\u001b[0m \u001b[0mplt\u001b[0m\u001b[1;33m.\u001b[0m\u001b[0mylabel\u001b[0m\u001b[1;33m(\u001b[0m\u001b[1;34m'validation loss'\u001b[0m\u001b[1;33m)\u001b[0m\u001b[1;33m\u001b[0m\u001b[1;33m\u001b[0m\u001b[0m\n\u001b[0;32m      4\u001b[0m \u001b[0mplt\u001b[0m\u001b[1;33m.\u001b[0m\u001b[0mshow\u001b[0m\u001b[1;33m(\u001b[0m\u001b[1;33m)\u001b[0m\u001b[1;33m\u001b[0m\u001b[1;33m\u001b[0m\u001b[0m\n",
      "\u001b[1;31mKeyError\u001b[0m: 'val_loss'"
     ]
    }
   ],
   "source": [
    "plt.plot(his.history['val_loss'])\n",
    "plt.xlabel('epochs')\n",
    "plt.ylabel('validation loss')\n",
    "plt.show()"
   ]
  },
  {
   "cell_type": "code",
   "execution_count": null,
   "metadata": {
    "ExecuteTime": {
     "end_time": "2019-09-28T07:43:43.129303Z",
     "start_time": "2019-09-28T07:39:48.059Z"
    }
   },
   "outputs": [],
   "source": [
    "plt.plot(his.history['acc'])\n",
    "plt.xlabel('epochs')\n",
    "plt.ylabel('accuracy')\n",
    "plt.show()"
   ]
  },
  {
   "cell_type": "code",
   "execution_count": null,
   "metadata": {
    "ExecuteTime": {
     "end_time": "2019-09-28T07:43:43.134292Z",
     "start_time": "2019-09-28T07:39:48.377Z"
    }
   },
   "outputs": [],
   "source": [
    "plt.plot(his.history['acc'],label=\"Accuracy\")\n",
    "plt.plot(his.history['val_acc'], label=\"Validation accuracy\")\n",
    "plt.legend()\n",
    "plt.xlabel('epochs')\n",
    "plt.show()"
   ]
  },
  {
   "cell_type": "code",
   "execution_count": null,
   "metadata": {
    "ExecuteTime": {
     "end_time": "2019-09-28T07:43:43.138278Z",
     "start_time": "2019-09-28T07:39:48.997Z"
    }
   },
   "outputs": [],
   "source": [
    "plt.plot(his.history['loss'],label=\"traing loss\")\n",
    "plt.plot(his.history['val_loss'], label=\"Validation loss\")\n",
    "plt.legend()\n",
    "plt.xlabel('epochs')\n",
    "plt.show()"
   ]
  },
  {
   "cell_type": "code",
   "execution_count": null,
   "metadata": {},
   "outputs": [],
   "source": []
  }
 ],
 "metadata": {
  "kernelspec": {
   "display_name": "Python 3",
   "language": "python",
   "name": "python3"
  },
  "language_info": {
   "codemirror_mode": {
    "name": "ipython",
    "version": 3
   },
   "file_extension": ".py",
   "mimetype": "text/x-python",
   "name": "python",
   "nbconvert_exporter": "python",
   "pygments_lexer": "ipython3",
   "version": "3.7.4"
  },
  "varInspector": {
   "cols": {
    "lenName": 16,
    "lenType": 16,
    "lenVar": 40
   },
   "kernels_config": {
    "python": {
     "delete_cmd_postfix": "",
     "delete_cmd_prefix": "del ",
     "library": "var_list.py",
     "varRefreshCmd": "print(var_dic_list())"
    },
    "r": {
     "delete_cmd_postfix": ") ",
     "delete_cmd_prefix": "rm(",
     "library": "var_list.r",
     "varRefreshCmd": "cat(var_dic_list()) "
    }
   },
   "types_to_exclude": [
    "module",
    "function",
    "builtin_function_or_method",
    "instance",
    "_Feature"
   ],
   "window_display": false
  }
 },
 "nbformat": 4,
 "nbformat_minor": 2
}
